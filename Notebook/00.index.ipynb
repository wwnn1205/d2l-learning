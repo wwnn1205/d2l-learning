{
 "cells": [
  {
   "cell_type": "markdown",
   "id": "e0cb9651-b1ab-4a20-ba5b-b045b5322b4c",
   "metadata": {},
   "source": [
    "**本笔记是基于他人笔记，主要记录其他笔记中疑惑、重点的部分，以及自己的理解**\n",
    "\n",
    "**如果复习，请结合原笔记来看，本笔记只是对原笔记的补充，内容方面不如原笔记全面**\n",
    "\n",
    "**原笔记地址**：https://github.com/MLNLP-World/DeepLearning-MuLi-Notes.git\n",
    "\n",
    "**本地地址**：D:\\code\\python\\jupyter notebook\\DeepLearning-MuLi-Notes-main\\notes"
   ]
  },
  {
   "cell_type": "code",
   "execution_count": null,
   "id": "b62286fd-663f-430d-b8db-826b97f7612a",
   "metadata": {},
   "outputs": [],
   "source": []
  }
 ],
 "metadata": {
  "kernelspec": {
   "display_name": "Python 3 (ipykernel)",
   "language": "python",
   "name": "python3"
  },
  "language_info": {
   "codemirror_mode": {
    "name": "ipython",
    "version": 3
   },
   "file_extension": ".py",
   "mimetype": "text/x-python",
   "name": "python",
   "nbconvert_exporter": "python",
   "pygments_lexer": "ipython3",
   "version": "3.9.23"
  }
 },
 "nbformat": 4,
 "nbformat_minor": 5
}

{
 "cells": [
  {
   "cell_type": "markdown",
   "id": "b9ae0f00-4392-474a-873e-013b82d52235",
   "metadata": {
    "jp-MarkdownHeadingCollapsed": true
   },
   "source": [
    "# 数据操作\n",
    "首先介绍n维数组，也称为张量（tensor），pytorch中的张量类与Numpy中的ndarray类似。但是在深度学习框架中应用Pytorch的张量类，会比ndarray多一些重要功能：\n",
    "\n",
    "1.tensor很好的支持GPU加速计算，Numpy只支持CPU计算\n",
    "\n",
    "2.tensor支持自动微分"
   ]
  },
  {
   "cell_type": "code",
   "execution_count": 14,
   "id": "4f488ea8-c59c-49c1-9998-e694fb3386d8",
   "metadata": {},
   "outputs": [
    {
     "name": "stdout",
     "output_type": "stream",
     "text": [
      "tensor([ 0,  1,  2,  3,  4,  5,  6,  7,  8,  9, 10, 11])\n"
     ]
    }
   ],
   "source": [
    "# 使用arange创建一个行向量x\n",
    "import torch\n",
    "x = torch.arange(12)\n",
    "print(x)"
   ]
  },
  {
   "cell_type": "markdown",
   "id": "53a4dfcf-f121-4f47-abe3-900df2e4de4c",
   "metadata": {},
   "source": [
    "可以通过shape属性访问张量的形状（沿每个轴的长度）"
   ]
  },
  {
   "cell_type": "code",
   "execution_count": 21,
   "id": "8bc9e58c-ab55-4643-a8de-3cb48eaeb49a",
   "metadata": {},
   "outputs": [
    {
     "data": {
      "text/plain": [
       "torch.Size([12])"
      ]
     },
     "execution_count": 21,
     "metadata": {},
     "output_type": "execute_result"
    }
   ],
   "source": [
    "x.shape"
   ]
  },
  {
   "cell_type": "markdown",
   "id": "c063a386-4f26-4e14-bba7-cb1d6f0af2d8",
   "metadata": {},
   "source": [
    "只想知道张量中的元素总数，即形状的所有元素乘积，可以使用numel（）"
   ]
  },
  {
   "cell_type": "code",
   "execution_count": 20,
   "id": "d421b89e-6b76-4c90-a7de-7b502338d259",
   "metadata": {},
   "outputs": [
    {
     "data": {
      "text/plain": [
       "12"
      ]
     },
     "execution_count": 20,
     "metadata": {},
     "output_type": "execute_result"
    }
   ],
   "source": [
    "x.numel()"
   ]
  },
  {
   "cell_type": "markdown",
   "id": "151c4136-1489-496a-876e-497148fa3cd2",
   "metadata": {},
   "source": [
    "改变张量形状但不改变元素数量和元素值，使用reshape()"
   ]
  },
  {
   "cell_type": "code",
   "execution_count": 24,
   "id": "3f9d3a85-f268-4c64-988b-5c47c738d760",
   "metadata": {},
   "outputs": [
    {
     "name": "stdout",
     "output_type": "stream",
     "text": [
      "tensor([[ 0,  1,  2,  3],\n",
      "        [ 4,  5,  6,  7],\n",
      "        [ 8,  9, 10, 11]])\n"
     ]
    }
   ],
   "source": [
    "X = x.reshape(3,4)\n",
    "print(X)"
   ]
  },
  {
   "cell_type": "markdown",
   "id": "3c3eaae2-545f-40a0-a3c5-c36521e7b663",
   "metadata": {},
   "source": [
    "也可以只指定n-1个维度的大小，最后一个维度会被自动计算出来"
   ]
  },
  {
   "cell_type": "code",
   "execution_count": 30,
   "id": "82ba7a8c-12eb-4d7f-a46c-05809f95693e",
   "metadata": {},
   "outputs": [
    {
     "name": "stdout",
     "output_type": "stream",
     "text": [
      "tensor([[ 0,  1,  2,  3],\n",
      "        [ 4,  5,  6,  7],\n",
      "        [ 8,  9, 10, 11]])\n",
      "tensor([[ 0,  1,  2,  3,  4,  5],\n",
      "        [ 6,  7,  8,  9, 10, 11]])\n"
     ]
    }
   ],
   "source": [
    "Y = x.reshape(-1,4)\n",
    "print(Y)\n",
    "Z = x.reshape(2,-1)\n",
    "print(Z)"
   ]
  },
  {
   "cell_type": "markdown",
   "id": "20ff480e-c059-481c-a28d-b056f9c38726",
   "metadata": {},
   "source": [
    "创建全0、全1张量"
   ]
  },
  {
   "cell_type": "code",
   "execution_count": 32,
   "id": "102de95a-4375-4616-94b2-bc41c5933fa8",
   "metadata": {},
   "outputs": [
    {
     "data": {
      "text/plain": [
       "tensor([[[[0., 0., 0., 0.],\n",
       "          [0., 0., 0., 0.],\n",
       "          [0., 0., 0., 0.]],\n",
       "\n",
       "         [[0., 0., 0., 0.],\n",
       "          [0., 0., 0., 0.],\n",
       "          [0., 0., 0., 0.]]],\n",
       "\n",
       "\n",
       "        [[[0., 0., 0., 0.],\n",
       "          [0., 0., 0., 0.],\n",
       "          [0., 0., 0., 0.]],\n",
       "\n",
       "         [[0., 0., 0., 0.],\n",
       "          [0., 0., 0., 0.],\n",
       "          [0., 0., 0., 0.]]]])"
      ]
     },
     "execution_count": 32,
     "metadata": {},
     "output_type": "execute_result"
    }
   ],
   "source": [
    "torch.zeros(2,2,3,4)"
   ]
  },
  {
   "cell_type": "code",
   "execution_count": 33,
   "id": "b4972638-5f4a-4231-b6c7-9a4f95991b5d",
   "metadata": {},
   "outputs": [
    {
     "data": {
      "text/plain": [
       "tensor([[1., 1., 1., 1.],\n",
       "        [1., 1., 1., 1.],\n",
       "        [1., 1., 1., 1.]])"
      ]
     },
     "execution_count": 33,
     "metadata": {},
     "output_type": "execute_result"
    }
   ],
   "source": [
    "torch.ones(3,4)"
   ]
  },
  {
   "cell_type": "markdown",
   "id": "419cbd3f-0ec3-4df2-819b-0d5f700888b7",
   "metadata": {},
   "source": [
    "随机采样张量中每个元素的值,其中的每个元素都从均值为0、标准差为1的标准正态分布中随机采样。"
   ]
  },
  {
   "cell_type": "code",
   "execution_count": 34,
   "id": "b8bbbae8-0f9f-4996-ba19-c99ed03aa9ec",
   "metadata": {},
   "outputs": [
    {
     "data": {
      "text/plain": [
       "tensor([[-0.3555,  0.8388, -0.2639, -1.2548],\n",
       "        [ 0.0168, -0.2870,  0.3326,  0.5456],\n",
       "        [ 0.7035,  2.0139,  0.1002, -1.8368],\n",
       "        [ 0.0039, -1.2594,  1.6589, -0.5712],\n",
       "        [-0.8302, -2.4053, -0.6109, -0.4444]])"
      ]
     },
     "execution_count": 34,
     "metadata": {},
     "output_type": "execute_result"
    }
   ],
   "source": [
    "torch.randn(5,4)"
   ]
  },
  {
   "cell_type": "markdown",
   "id": "e5b10442-0823-471b-b9a2-b19c01aa7d24",
   "metadata": {},
   "source": [
    "把多个张量连结在一起，只需要提供张量列表，并给出沿哪个轴连结即可。\n",
    "\n",
    "下面展示一下沿行和按列连结的情况"
   ]
  },
  {
   "cell_type": "code",
   "execution_count": 40,
   "id": "c382c007-ce95-453b-a2d6-2f7e6338cfff",
   "metadata": {},
   "outputs": [
    {
     "name": "stdout",
     "output_type": "stream",
     "text": [
      "沿x轴连结\n",
      "tensor([[ 0.,  1.,  2.,  3.],\n",
      "        [ 4.,  5.,  6.,  7.],\n",
      "        [ 8.,  9., 10., 11.],\n",
      "        [ 1.,  2.,  3.,  4.],\n",
      "        [ 2.,  3.,  4.,  5.],\n",
      "        [ 3.,  4.,  5.,  6.]])\n",
      "按y轴连结\n"
     ]
    },
    {
     "data": {
      "text/plain": [
       "tensor([[ 0.,  1.,  2.,  3.,  1.,  2.,  3.,  4.],\n",
       "        [ 4.,  5.,  6.,  7.,  2.,  3.,  4.,  5.],\n",
       "        [ 8.,  9., 10., 11.,  3.,  4.,  5.,  6.]])"
      ]
     },
     "execution_count": 40,
     "metadata": {},
     "output_type": "execute_result"
    }
   ],
   "source": [
    "x = torch.arange(12, dtype=torch.float32).reshape(3,4)\n",
    "y = torch.tensor([[1,2,3,4],[2,3,4,5],[3,4,5,6]])\n",
    "# 沿x轴连结\n",
    "print(\"沿x轴连结\")\n",
    "print(torch.cat((x,y),dim=0))\n",
    "\n",
    "# 按y轴连结\n",
    "print(\"按y轴连结\")\n",
    "torch.cat((x,y),dim=1)"
   ]
  },
  {
   "cell_type": "markdown",
   "id": "f2c3a873-31fc-4c9d-94a2-954cb412e837",
   "metadata": {},
   "source": [
    "可以看到，按x轴连结的时候，是3+3=6，按y轴连结的时候，是4+4=8"
   ]
  },
  {
   "cell_type": "markdown",
   "id": "e9dd0f82-68c7-4413-8e3c-ef811fd830f4",
   "metadata": {},
   "source": [
    "将两个三维张量连结"
   ]
  },
  {
   "cell_type": "code",
   "execution_count": 45,
   "id": "e4427b51-c005-4e8a-b977-c41d2b7900c3",
   "metadata": {},
   "outputs": [
    {
     "name": "stdout",
     "output_type": "stream",
     "text": [
      "沿x轴连结\n",
      "tensor([[[ 0.,  1.],\n",
      "         [ 2.,  3.]],\n",
      "\n",
      "        [[ 4.,  5.],\n",
      "         [ 6.,  7.]],\n",
      "\n",
      "        [[ 8.,  9.],\n",
      "         [10., 11.]],\n",
      "\n",
      "        [[ 1.,  2.],\n",
      "         [ 2.,  3.]],\n",
      "\n",
      "        [[ 3.,  4.],\n",
      "         [ 4.,  5.]],\n",
      "\n",
      "        [[ 5.,  6.],\n",
      "         [ 6.,  7.]]])\n",
      "按y轴连结\n",
      "tensor([[[ 0.,  1.],\n",
      "         [ 2.,  3.],\n",
      "         [ 1.,  2.],\n",
      "         [ 2.,  3.]],\n",
      "\n",
      "        [[ 4.,  5.],\n",
      "         [ 6.,  7.],\n",
      "         [ 3.,  4.],\n",
      "         [ 4.,  5.]],\n",
      "\n",
      "        [[ 8.,  9.],\n",
      "         [10., 11.],\n",
      "         [ 5.,  6.],\n",
      "         [ 6.,  7.]]])\n",
      "沿z轴连结\n"
     ]
    },
    {
     "data": {
      "text/plain": [
       "tensor([[[ 0.,  1.,  1.,  2.],\n",
       "         [ 2.,  3.,  2.,  3.]],\n",
       "\n",
       "        [[ 4.,  5.,  3.,  4.],\n",
       "         [ 6.,  7.,  4.,  5.]],\n",
       "\n",
       "        [[ 8.,  9.,  5.,  6.],\n",
       "         [10., 11.,  6.,  7.]]])"
      ]
     },
     "execution_count": 45,
     "metadata": {},
     "output_type": "execute_result"
    }
   ],
   "source": [
    "x = torch.arange(12,dtype=torch.float32).reshape(3,2,2)\n",
    "y = torch.tensor([[[1,2],[2,3]],[[3,4],[4,5]],[[5,6],[6,7]]])\n",
    "# 沿x轴连结\n",
    "print(\"沿x轴连结\")\n",
    "print(torch.cat((x,y),dim=0))\n",
    "\n",
    "# 按y轴连结\n",
    "print(\"按y轴连结\")\n",
    "print(torch.cat((x,y),dim=1))\n",
    "\n",
    "# 沿z轴连结\n",
    "print(\"沿z轴连结\")\n",
    "torch.cat((x,y),dim=2)"
   ]
  },
  {
   "cell_type": "code",
   "execution_count": 48,
   "id": "c0b68f2c-c3a3-4adb-af6a-1b15e584a714",
   "metadata": {},
   "outputs": [
    {
     "data": {
      "text/plain": [
       "tensor([[[False, False],\n",
       "         [ True,  True]],\n",
       "\n",
       "        [[False, False],\n",
       "         [False, False]],\n",
       "\n",
       "        [[False, False],\n",
       "         [False, False]]])"
      ]
     },
     "execution_count": 48,
     "metadata": {},
     "output_type": "execute_result"
    }
   ],
   "source": [
    "# 通过逻辑运算符构建张量，对于每个位置，如果x和y在该位置的元素值相等，则为True，否则为False\n",
    "x==y"
   ]
  },
  {
   "cell_type": "markdown",
   "id": "a586302f-da37-41bf-b6b2-759f643734ec",
   "metadata": {},
   "source": [
    "对张量中的所有元素求和，会产生一个单元素张量"
   ]
  },
  {
   "cell_type": "code",
   "execution_count": 49,
   "id": "e06ba31d-4395-4132-b95e-f99111d10182",
   "metadata": {},
   "outputs": [
    {
     "data": {
      "text/plain": [
       "tensor(66.)"
      ]
     },
     "execution_count": 49,
     "metadata": {},
     "output_type": "execute_result"
    }
   ],
   "source": [
    "x.sum()"
   ]
  },
  {
   "cell_type": "markdown",
   "id": "29a04c58-d2ec-48e8-920d-82d904f149c0",
   "metadata": {
    "jp-MarkdownHeadingCollapsed": true
   },
   "source": [
    "# 数据预处理"
   ]
  },
  {
   "cell_type": "markdown",
   "id": "196948a8-e0a6-4b1f-897a-b3f15acb93cd",
   "metadata": {},
   "source": [
    "举一个例子，我们首先(**创建一个人工数据集，并存储在CSV（逗号分隔值）文件**)`../data/house_tiny.csv`中。以其他格式存储的数据也可以通过类似的方式进行处理。下面我们将数据集按行写入CSV文件中。"
   ]
  },
  {
   "cell_type": "code",
   "execution_count": 79,
   "id": "871f5a39-f835-4909-b390-71805a3cde3f",
   "metadata": {},
   "outputs": [],
   "source": [
    "import os\n",
    "os.makedirs(os.path.join('..', 'data'), exist_ok=True)\n",
    "data_file = os.path.join('..', 'data', 'house_tiny.csv')\n",
    "with open(data_file, 'w') as f:\n",
    "    f.write('NumRooms,Alley,Price\\n')  # 列名\n",
    "    f.write('NA,Pave,127500\\n')  # 每行表示一个数据样本\n",
    "    f.write('2,NA,106000\\n')\n",
    "    f.write('4,NA,178100\\n')\n",
    "    f.write('NA,NA,140000\\n')"
   ]
  },
  {
   "cell_type": "markdown",
   "id": "b6bf30c4-9d0e-44b2-a1bf-39d9ffe6e833",
   "metadata": {},
   "source": [
    "要**从创建的CSV文件中加载原始数据集**，我们导入`pandas`包并调用`read_csv`函数。该数据集有四行三列。其中每行描述了房间数量（“NumRooms”）、巷子类型（“Alley”）和房屋价格（“Price”）。"
   ]
  },
  {
   "cell_type": "code",
   "execution_count": 81,
   "id": "00977775-2473-4f10-8b67-adfd426fa048",
   "metadata": {},
   "outputs": [
    {
     "name": "stdout",
     "output_type": "stream",
     "text": [
      "   NumRooms Alley   Price\n",
      "0       NaN  Pave  127500\n",
      "1       2.0   NaN  106000\n",
      "2       4.0   NaN  178100\n",
      "3       NaN   NaN   21205\n"
     ]
    }
   ],
   "source": [
    "import pandas as pd\n",
    "data = pd.read_csv(data_file)\n",
    "print(data)"
   ]
  },
  {
   "cell_type": "markdown",
   "id": "9d843b97-9818-4761-ae98-6bbe1c904039",
   "metadata": {},
   "source": [
    "# 练习时间"
   ]
  },
  {
   "cell_type": "code",
   "execution_count": 87,
   "id": "f681213a-5511-4828-baca-630f229699f3",
   "metadata": {},
   "outputs": [
    {
     "name": "stdout",
     "output_type": "stream",
     "text": [
      "tensor(7.)\n",
      "tensor(3.)\n",
      "tensor(12.)\n",
      "tensor(0.7500)\n",
      "tensor(81.)\n"
     ]
    }
   ],
   "source": [
    "x = torch.tensor(3.0)\n",
    "y = torch.tensor(4.0)\n",
    "print(x+y)\n",
    "print(x)\n",
    "print(x*y)\n",
    "print(x/y)\n",
    "print(x**y)"
   ]
  },
  {
   "cell_type": "code",
   "execution_count": 90,
   "id": "f2ead7ef-cf51-4b62-b4be-1ca5bde2af65",
   "metadata": {},
   "outputs": [],
   "source": [
    "z = torch.arange(12).reshape(2,6)"
   ]
  },
  {
   "cell_type": "code",
   "execution_count": 92,
   "id": "2da7faa2-8390-4e47-849e-1c1964102771",
   "metadata": {},
   "outputs": [
    {
     "name": "stdout",
     "output_type": "stream",
     "text": [
      "tensor([[ 0,  1,  2,  3,  4,  5],\n",
      "        [ 6,  7,  8,  9, 10, 11]])\n",
      "tensor([[ 0,  6],\n",
      "        [ 1,  7],\n",
      "        [ 2,  8],\n",
      "        [ 3,  9],\n",
      "        [ 4, 10],\n",
      "        [ 5, 11]])\n"
     ]
    }
   ],
   "source": [
    "print(z)\n",
    "z=z.T\n",
    "print(z)"
   ]
  },
  {
   "cell_type": "code",
   "execution_count": 93,
   "id": "df9769f5-a05f-4936-b643-6a3ab835ed7a",
   "metadata": {},
   "outputs": [
    {
     "data": {
      "text/plain": [
       "tensor([[ 0,  6,  1,  7],\n",
       "        [ 2,  8,  3,  9],\n",
       "        [ 4, 10,  5, 11]])"
      ]
     },
     "execution_count": 93,
     "metadata": {},
     "output_type": "execute_result"
    }
   ],
   "source": [
    "z.reshape(3,4)"
   ]
  },
  {
   "cell_type": "code",
   "execution_count": null,
   "id": "f60ae9c8-3c52-4d87-bec5-557f358818cb",
   "metadata": {},
   "outputs": [],
   "source": []
  }
 ],
 "metadata": {
  "kernelspec": {
   "display_name": "Python 3 (ipykernel)",
   "language": "python",
   "name": "python3"
  },
  "language_info": {
   "codemirror_mode": {
    "name": "ipython",
    "version": 3
   },
   "file_extension": ".py",
   "mimetype": "text/x-python",
   "name": "python",
   "nbconvert_exporter": "python",
   "pygments_lexer": "ipython3",
   "version": "3.9.23"
  }
 },
 "nbformat": 4,
 "nbformat_minor": 5
}

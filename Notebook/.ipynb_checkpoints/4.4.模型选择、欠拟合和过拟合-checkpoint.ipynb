{
 "cells": [
  {
   "cell_type": "markdown",
   "id": "e62cf61c-7c83-497f-ab17-2bf614ee51b8",
   "metadata": {},
   "source": [
    "* **理想状态**：模型要能从给定的数据中学会**通用规律**，能对新数据做出准确预测。\n",
    "* **过拟合**：模型把训练数据背得太死，对新数据表现很差，就像只知道课本例题答案的学生。\n",
    "* **正则化**：就是防止模型死记硬背的一种技术，让它变得更“聪明”。"
   ]
  },
  {
   "cell_type": "markdown",
   "id": "6e030cc9-28fa-462c-911d-2888a8bb70c7",
   "metadata": {},
   "source": [
    "在训练模型时，有两个非常重要的“成绩单”：**训练误差**和**泛化误差**。\n",
    "\n",
    "* **训练误差（Training Error）：** 这好比是你平时在家里做的**练习题**。你在做这些题时，模型（也就是你）能得到一个分数，这个分数就是训练误差。如果这个分数很高（误差很低），说明你对这些练习题掌握得很好。\n",
    "\n",
    "* **泛化误差（Generalization Error）：** 这才是你最终的**正式考试**。这个考试的题目是你之前从来没见过的。泛化误差就是模型在这些新题目上犯的错误。这个误差的高低，才能真正反映模型是不是“学到了真本事”。\n"
   ]
  },
  {
   "cell_type": "markdown",
   "id": "0a6b5d6b-82c3-4acc-9284-d47e2c115096",
   "metadata": {},
   "source": [
    "\n",
    "\n",
    "# 模型复杂性\n",
    "\n",
    "模型复杂性就是指一个模型“思考”问题的能力有多强。我们可以用几个指标来衡量它：\n",
    "\n",
    "* **可调整参数的数量**：这就像是模型有多少个可以调节的“旋钮”。旋钮越多，模型就越复杂。\n",
    "* **参数取值的范围**：如果每个“旋钮”可以调节的范围很大，模型也会变得更复杂。\n",
    "* **训练样本的数量**：这有点特别。在数据很少的时候，即使是一个简单的模型也可能“记住”所有数据，导致**过拟合**。而在数据量很大的时候，模型就需要变得很复杂才能处理好所有信息。\n",
    "\n",
    "---\n",
    "\n",
    "**模型复杂性与误差的关系**\n",
    "\n",
    "一个很重要的观点：**模型复杂性和泛化误差是此消彼长的。**\n",
    "\n",
    "* **数据多，模型简单**：当数据量很大，而模型很简单时，它学到的规律可能就是通用的，所以**训练误差**和**泛化误差**会比较接近。\n",
    "* **数据少，模型复杂**：当数据很少，而模型又很复杂时，它很容易就会把这些有限的数据“背下来”，导致**训练误差**下降，但**泛化误差**会急剧上升。\n",
    "\n",
    "打个比方，就像一个学生。如果题目很少（数据少），老师又让他学很多知识（模型复杂），他很容易就只会背答案，遇到新题就错（泛化误差高）。但如果题目很多（数据多），他学得再多，也只能靠理解，很难死记硬背。\n",
    "\n",
    "**总结一下：**\n",
    "\n",
    "* **模型复杂性**就像是模型的“学习能力”。\n",
    "* 它和**泛化误差**密切相关：模型过于简单或过于复杂都可能导致泛化误差很高。\n",
    "* **理想状态**：我们需要根据数据量来选择一个合适复杂度的模型，这样才能让它既学到东西，又不会死记硬背。"
   ]
  },
  {
   "cell_type": "markdown",
   "id": "6d0ff1cf-ac9c-4111-bde7-03eea066a00e",
   "metadata": {},
   "source": [
    "# 验证集\n",
    "\n",
    "* **训练集**：用来让模型学习。\n",
    "* **验证集**：用来在训练过程中，帮助我们选择一个最好的模型，也就是用来“调参”的。\n",
    "* **测试集**：只在所有工作完成后，用来最终评估模型的真实能力。"
   ]
  },
  {
   "cell_type": "markdown",
   "id": "24700db4-2cdd-432b-95c5-c89344a9b3b1",
   "metadata": {},
   "source": [
    "# 欠拟合还是过拟合？\n",
    "\n",
    "**欠拟合（Underfitting）**\n",
    "\n",
    "当你的模型**欠拟合**时，它就像一个“怎么教都学不会”的学生。\n",
    "\n",
    "* **表现**：**训练误差**和**验证误差**都非常高，而且两者很接近。\n",
    "* **原因**：这通常意味着模型本身太简单了，它的学习能力（即“表达能力”）不足，连它自己做过的题都答不好。\n",
    "* **解决办法**：你需要给它换一个更复杂的模型，或者增加更多的特征，让它有能力去学习。\n",
    "\n",
    "**过拟合（Overfitting）**\n",
    "\n",
    "当你的模型**过拟合**时，它就像一个“只会死记硬背”的学生。\n",
    "\n",
    "* **表现**：**训练误差**很低，但**验证误差**却高得多。\n",
    "* **原因**：这说明模型把训练数据背得太死，以至于对新的数据（验证集）表现很差。\n",
    "* **解决办法**：通常需要简化模型、增加训练数据，或者使用**正则化**等方法来防止它死记硬背。\n",
    "\n",
    "---\n",
    "\n",
    "**总结一下：**\n",
    "\n",
    "判断模型好不好，主要看**验证误差**。\n",
    "\n",
    "* 如果**训练误差**和**验证误差**都很高 → **欠拟合**，模型太简单。\n",
    "* 如果**训练误差**很低，但**验证误差**很高 → **过拟合**，模型太复杂，死记硬背。\n"
   ]
  },
  {
   "attachments": {
    "c77d6226-f26d-4665-9273-6ab3fcdd6035.png": {
     "image/png": "[encoded data removed]"
    }
   },
   "cell_type": "markdown",
   "id": "2e876ec2-c7b2-47e3-a9fa-69e7ff4a4a59",
   "metadata": {},
   "source": [
    "![image.png](attachment:c77d6226-f26d-4665-9273-6ab3fcdd6035.png)"
   ]
  },
  {
   "cell_type": "markdown",
   "id": "bc5495d9-2a63-48fd-ac7a-890f0eb53af8",
   "metadata": {},
   "source": [
    "这张图非常重要，它用一个简单的曲线，解释了训练模型时最核心的矛盾。\n",
    "\n",
    "图中的横坐标是**模型复杂性**，你可以理解为模型的“聪明程度”。越往右，模型越复杂，学习能力越强。\n",
    "\n",
    "图中的纵坐标是**损失**（Loss），你可以理解为模型的“犯错程度”，损失越低，模型越好。\n",
    "\n",
    "图中有两条线：\n",
    "\n",
    "1.  **训练损失（Training Loss）**：这条线代表模型在**练习题**（训练数据）上的表现。你会发现，随着模型复杂度的增加，这条线一直在下降。这是很好理解的，因为模型越复杂，就越能把练习题的答案“背”下来，所以犯的错越来越少。\n",
    "\n",
    "2.  **泛化损失（Generalization Loss）**：这条线代表模型在**正式考试**（新数据）上的表现。它一开始也随着模型复杂度的增加而下降，但到达一个点后，它反而开始上升了。\n",
    "\n",
    "---\n",
    "\n",
    "这张图完美地展示了三种状态：\n",
    "\n",
    "1.  **欠拟合（Underfitting）**：\n",
    "    * **位置**：在曲线的**左边**。\n",
    "    * **状态**：模型太简单了，连练习题都答不好，所以**训练损失**和**泛化损失**都非常高。这就像一个学习能力很弱的学生，无论是练习还是考试都表现不好。\n",
    "    * **解决**：需要增加模型的复杂性。\n",
    "\n",
    "2.  **最佳状态**：\n",
    "    * **位置**：在曲线的**中间**，泛化损失达到最低点。\n",
    "    * **状态**：这个点代表了模型的“最佳聪明程度”。模型既不是太笨（欠拟合），也不是只会死记硬背（过拟合），它学到了**通用的规律**，所以无论是练习还是考试，表现都很好。\n",
    "    * **解决**：这个就是我们的目标！\n",
    "\n",
    "3.  **过拟合（Overfitting）**：\n",
    "    * **位置**：在曲线的**右边**。\n",
    "    * **状态**：模型变得太复杂了，它把练习题背得滚瓜烂熟，导致**训练损失**很低。但正是因为它只会死记硬背，遇到新题时反而答错了，导致**泛化损失**急剧上升。这就像一个只会背书的学生，考试一出新题就傻眼了。\n",
    "    * **解决**：需要降低模型的复杂性，或者用其他方法来防止它死记硬背。\n",
    "\n"
   ]
  },
  {
   "cell_type": "code",
   "execution_count": null,
   "id": "01b5d26e-e87e-4345-a15a-ac0df876e0e5",
   "metadata": {},
   "outputs": [],
   "source": []
  }
 ],
 "metadata": {
  "kernelspec": {
   "display_name": "d2l",
   "language": "python",
   "name": "d2l"
  },
  "language_info": {
   "codemirror_mode": {
    "name": "ipython",
    "version": 3
   },
   "file_extension": ".py",
   "mimetype": "text/x-python",
   "name": "python",
   "nbconvert_exporter": "python",
   "pygments_lexer": "ipython3",
   "version": "3.9.23"
  }
 },
 "nbformat": 4,
 "nbformat_minor": 5
}

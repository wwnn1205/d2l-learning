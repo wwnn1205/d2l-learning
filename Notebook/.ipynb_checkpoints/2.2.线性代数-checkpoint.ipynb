{
 "cells": [
  {
   "cell_type": "markdown",
   "id": "fec02658-1759-4033-9ddc-3cb762107a9c",
   "metadata": {},
   "source": [
    "# 1.标量\n",
    "\n",
    "标量由只有一个元素的张量表示"
   ]
  },
  {
   "cell_type": "code",
   "execution_count": 3,
   "id": "a7100d59-8e58-49ab-8b24-cc3f6028332e",
   "metadata": {},
   "outputs": [
    {
     "data": {
      "text/plain": [
       "(tensor(5.), tensor(1.), tensor(6.), tensor(1.5000), tensor(9.))"
      ]
     },
     "execution_count": 3,
     "metadata": {},
     "output_type": "execute_result"
    }
   ],
   "source": [
    "import torch\n",
    "x = torch.tensor(3.0)\n",
    "y = torch.tensor(2.0)\n",
    "\n",
    "x+y,x-y,x*y,x/y,x**y"
   ]
  },
  {
   "attachments": {
    "29bac95d-0f7b-4fe9-a4fa-119acbb7ee0c.png": {
     "image/png": "[encoded data removed]"
    }
   },
   "cell_type": "markdown",
   "id": "7a8548ac-b75d-46af-bf64-87184733d6e4",
   "metadata": {},
   "source": [
    "# 2.向量\n",
    "向量可以被视为标量值组成的列表，这些标量值被称为向量的元素/分量\n",
    "\n",
    "在数学表示法中，向量通常记为粗体、小写的符号，例如：**x**、**y**、**z**\n",
    "\n",
    "![image.png](attachment:29bac95d-0f7b-4fe9-a4fa-119acbb7ee0c.png)"
   ]
  },
  {
   "cell_type": "code",
   "execution_count": 7,
   "id": "bee0db37-e2f6-4dc9-b5f4-e229b3a9c2bb",
   "metadata": {},
   "outputs": [
    {
     "data": {
      "text/plain": [
       "tensor([0., 1., 2., 3.])"
      ]
     },
     "execution_count": 7,
     "metadata": {},
     "output_type": "execute_result"
    }
   ],
   "source": [
    "x=torch.arange(4.0)\n",
    "x"
   ]
  },
  {
   "cell_type": "code",
   "execution_count": 9,
   "id": "11a0082f-dc37-43bc-b9df-a6cba330cbdb",
   "metadata": {},
   "outputs": [
    {
     "data": {
      "text/plain": [
       "tensor([[0., 1.],\n",
       "        [2., 3.]])"
      ]
     },
     "execution_count": 9,
     "metadata": {},
     "output_type": "execute_result"
    }
   ],
   "source": [
    "x.reshape(2,2)"
   ]
  },
  {
   "cell_type": "code",
   "execution_count": 11,
   "id": "c5d09f8b-c1cd-43be-b53d-814fee775159",
   "metadata": {},
   "outputs": [
    {
     "data": {
      "text/plain": [
       "(tensor(0.), tensor(1.), tensor(2.), tensor(3.))"
      ]
     },
     "execution_count": 11,
     "metadata": {},
     "output_type": "execute_result"
    }
   ],
   "source": [
    "x[0],x[1],x[2],x[3]"
   ]
  },
  {
   "cell_type": "code",
   "execution_count": 12,
   "id": "70a8bf96-1e0c-47be-8a14-73868a704298",
   "metadata": {},
   "outputs": [
    {
     "data": {
      "text/plain": [
       "4"
      ]
     },
     "execution_count": 12,
     "metadata": {},
     "output_type": "execute_result"
    }
   ],
   "source": [
    "len(x)"
   ]
  },
  {
   "cell_type": "code",
   "execution_count": 13,
   "id": "a5dcd29a-9e42-4839-b3be-1baa722c5ef9",
   "metadata": {},
   "outputs": [
    {
     "data": {
      "text/plain": [
       "torch.Size([4])"
      ]
     },
     "execution_count": 13,
     "metadata": {},
     "output_type": "execute_result"
    }
   ],
   "source": [
    "x.shape"
   ]
  },
  {
   "attachments": {
    "3218bdbc-4341-4b41-a5b6-d48bd6cf5946.png": {
     "image/png": "[encoded data removed]"
    }
   },
   "cell_type": "markdown",
   "id": "0281df6e-7238-4d78-84fd-3e91a96d2355",
   "metadata": {},
   "source": [
    "# 3.矩阵\n",
    "\n",
    "矩阵通常用大写粗体字母来表示，如：**X**、**Y**、**Z**\n",
    "\n",
    "在代码中表示为具有两个轴的张量\n",
    "\n",
    "![image.png](attachment:3218bdbc-4341-4b41-a5b6-d48bd6cf5946.png)"
   ]
  },
  {
   "cell_type": "code",
   "execution_count": 17,
   "id": "08a7da0b-7647-4e8f-b785-14aafeedb28e",
   "metadata": {},
   "outputs": [
    {
     "data": {
      "text/plain": [
       "tensor([[ 0,  1,  2,  3],\n",
       "        [ 4,  5,  6,  7],\n",
       "        [ 8,  9, 10, 11],\n",
       "        [12, 13, 14, 15],\n",
       "        [16, 17, 18, 19]])"
      ]
     },
     "execution_count": 17,
     "metadata": {},
     "output_type": "execute_result"
    }
   ],
   "source": [
    "a = torch.arange(20).reshape(5,4)\n",
    "a"
   ]
  },
  {
   "attachments": {
    "972b1443-670b-4af0-b3e2-0a34c317c547.png": {
     "image/png": "[encoded data removed]"
    }
   },
   "cell_type": "markdown",
   "id": "06169c0e-b3b5-46bc-a4a7-2ec8efbca2fa",
   "metadata": {},
   "source": [
    "转置就是把行和列互换\n",
    "\n",
    "![image.png](attachment:972b1443-670b-4af0-b3e2-0a34c317c547.png)"
   ]
  },
  {
   "cell_type": "code",
   "execution_count": 19,
   "id": "cc4602b4-28ea-4bf2-b38a-9fa4fc22dd24",
   "metadata": {},
   "outputs": [
    {
     "data": {
      "text/plain": [
       "tensor([[ 0,  4,  8, 12, 16],\n",
       "        [ 1,  5,  9, 13, 17],\n",
       "        [ 2,  6, 10, 14, 18],\n",
       "        [ 3,  7, 11, 15, 19]])"
      ]
     },
     "execution_count": 19,
     "metadata": {},
     "output_type": "execute_result"
    }
   ],
   "source": [
    "a.T"
   ]
  },
  {
   "cell_type": "markdown",
   "id": "6976d687-3f7e-41c2-8bdf-ccdd7f9e8b0a",
   "metadata": {},
   "source": [
    "# 4.张量\n",
    "\n",
    "当我们开始处理图像时，张量将变得更加重要。图像以n维数组形式出现，其中3个轴对应于高度、宽度以及一个通道轴，用于表示颜色通道（红色、蓝色、绿色）"
   ]
  },
  {
   "cell_type": "code",
   "execution_count": null,
   "id": "085f5f75-ee28-42da-a19b-a7d1776dfa8c",
   "metadata": {},
   "outputs": [],
   "source": []
  }
 ],
 "metadata": {
  "kernelspec": {
   "display_name": "d2l",
   "language": "python",
   "name": "d2l"
  },
  "language_info": {
   "codemirror_mode": {
    "name": "ipython",
    "version": 3
   },
   "file_extension": ".py",
   "mimetype": "text/x-python",
   "name": "python",
   "nbconvert_exporter": "python",
   "pygments_lexer": "ipython3",
   "version": "3.9.23"
  }
 },
 "nbformat": 4,
 "nbformat_minor": 5
}

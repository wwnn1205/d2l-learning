{
 "cells": [
  {
   "cell_type": "markdown",
   "id": "92300569-8b4c-4d95-a487-482217644b2b",
   "metadata": {},
   "source": [
    "**回归是一种数学方法，它能够为一个或多个自变量与因变量之间的关系进行建模**\n",
    "\n",
    "**在自然科学和社会科学领域，回归经常用来表示输入和输出之间的关系**"
   ]
  },
  {
   "cell_type": "markdown",
   "id": "dafd191e-fe55-4999-9030-62c3d04ca252",
   "metadata": {},
   "source": [
    "# 线性回归的基本元素"
   ]
  },
  {
   "cell_type": "markdown",
   "id": "62002597-c029-4a01-a5d8-da4705cabb41",
   "metadata": {},
   "source": []
  },
  {
   "cell_type": "code",
   "execution_count": null,
   "id": "4aeba6c7-a6d6-43c0-876d-c9c0a9e1fe4f",
   "metadata": {},
   "outputs": [],
   "source": []
  }
 ],
 "metadata": {
  "kernelspec": {
   "display_name": "d2l",
   "language": "python",
   "name": "d2l"
  },
  "language_info": {
   "codemirror_mode": {
    "name": "ipython",
    "version": 3
   },
   "file_extension": ".py",
   "mimetype": "text/x-python",
   "name": "python",
   "nbconvert_exporter": "python",
   "pygments_lexer": "ipython3",
   "version": "3.9.23"
  }
 },
 "nbformat": 4,
 "nbformat_minor": 5
}
